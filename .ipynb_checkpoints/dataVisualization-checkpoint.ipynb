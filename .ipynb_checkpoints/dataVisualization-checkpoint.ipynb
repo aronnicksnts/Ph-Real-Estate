{
 "cells": [
  {
   "cell_type": "code",
   "execution_count": 42,
   "id": "506a7318",
   "metadata": {},
   "outputs": [],
   "source": [
    "import pandas as pd\n",
    "import numpy as np\n",
    "import matplotlib.pyplot as plt\n",
    "import seaborn as sns\n",
    "import geopandas"
   ]
  },
  {
   "cell_type": "code",
   "execution_count": 43,
   "id": "6bf90259",
   "metadata": {},
   "outputs": [],
   "source": [
    "house_data = pd.read_csv('csv files/house_data.csv')\n",
    "condo_data = pd.read_csv('csv files/condo_data.csv')\n",
    "apartment_data = pd.read_csv('csv files/apartment_data.csv')"
   ]
  },
  {
   "cell_type": "markdown",
   "id": "184bb8c2",
   "metadata": {},
   "source": [
    "# Functions Used\n",
    "\n",
    "This section includes functions created for the general visualization of different factors of the data"
   ]
  },
  {
   "cell_type": "code",
   "execution_count": 52,
   "id": "f49607a1",
   "metadata": {},
   "outputs": [],
   "source": [
    "# Creates a histogram depending on the data given, saves the images in the image folder with 300 DPI\n",
    "# Data need to be given are the data itself, the xlabel, ylabel, title, number of bins, and the file name\n",
    "def createHistogram(data, plotDetails, fileName):\n",
    "    plt.xlabel(plotDetails['xlabel'])\n",
    "    plt.ylabel(plotDetails['ylabel'])\n",
    "    plt.title(plotDetails['title'])\n",
    "    plt.hist(data, bins=plotDetails['bins']);\n",
    "    plt.savefig(f'images/{fileName}',dpi = 300,bbox_inches='tight')\n",
    "    plt.show()"
   ]
  },
  {
   "cell_type": "markdown",
   "id": "2e8784ef",
   "metadata": {},
   "source": [
    "# Visualize Price\n",
    "\n",
    "In this section, price frequency would be visualized in the different listing categories."
   ]
  },
  {
   "cell_type": "markdown",
   "id": "a165249a",
   "metadata": {},
   "source": [
    "## House Data - Buying\n",
    "\n",
    "A histogram would be created in this section to see the different pricing of each of the house listings that are up for sale"
   ]
  },
  {
   "cell_type": "code",
   "execution_count": 45,
   "id": "87a61c6a",
   "metadata": {},
   "outputs": [
    {
     "data": {
      "text/html": [
       "<div>\n",
       "<style scoped>\n",
       "    .dataframe tbody tr th:only-of-type {\n",
       "        vertical-align: middle;\n",
       "    }\n",
       "\n",
       "    .dataframe tbody tr th {\n",
       "        vertical-align: top;\n",
       "    }\n",
       "\n",
       "    .dataframe thead th {\n",
       "        text-align: right;\n",
       "    }\n",
       "</style>\n",
       "<table border=\"1\" class=\"dataframe\">\n",
       "  <thead>\n",
       "    <tr style=\"text-align: right;\">\n",
       "      <th></th>\n",
       "      <th>link</th>\n",
       "      <th>title</th>\n",
       "      <th>price</th>\n",
       "      <th>location</th>\n",
       "      <th>propertyType</th>\n",
       "      <th>offerType</th>\n",
       "      <th>Bedrooms</th>\n",
       "      <th>Bathrooms</th>\n",
       "      <th>Floor area (m)</th>\n",
       "      <th>Land Size (m)</th>\n",
       "      <th>...</th>\n",
       "      <th>Smoke detector</th>\n",
       "      <th>Split-system heating</th>\n",
       "      <th>Badminton court</th>\n",
       "      <th>Helipad</th>\n",
       "      <th>Sports facilities</th>\n",
       "      <th>Tennis court</th>\n",
       "      <th>Volleyball Court</th>\n",
       "      <th>Monthly Payment</th>\n",
       "      <th>Yearly Payment</th>\n",
       "      <th>Daily Payment</th>\n",
       "    </tr>\n",
       "  </thead>\n",
       "  <tbody>\n",
       "    <tr>\n",
       "      <th>11737</th>\n",
       "      <td>https://www.lamudi.com.ph/ttttggfc-bvnllmb-vjn...</td>\n",
       "      <td>ttttggfc bvnllmb vjnlnnvchj vjjkknnvv</td>\n",
       "      <td>5.989994e+12</td>\n",
       "      <td>Ilustre, President Roxas</td>\n",
       "      <td>house</td>\n",
       "      <td>rent</td>\n",
       "      <td>10</td>\n",
       "      <td>9</td>\n",
       "      <td>398855998.0</td>\n",
       "      <td>888088669.0</td>\n",
       "      <td>...</td>\n",
       "      <td>0.0</td>\n",
       "      <td>0.0</td>\n",
       "      <td>0.0</td>\n",
       "      <td>0.0</td>\n",
       "      <td>0.0</td>\n",
       "      <td>0.0</td>\n",
       "      <td>0.0</td>\n",
       "      <td>False</td>\n",
       "      <td>False</td>\n",
       "      <td>True</td>\n",
       "    </tr>\n",
       "  </tbody>\n",
       "</table>\n",
       "<p>1 rows × 76 columns</p>\n",
       "</div>"
      ],
      "text/plain": [
       "                                                    link  \\\n",
       "11737  https://www.lamudi.com.ph/ttttggfc-bvnllmb-vjn...   \n",
       "\n",
       "                                       title         price  \\\n",
       "11737  ttttggfc bvnllmb vjnlnnvchj vjjkknnvv  5.989994e+12   \n",
       "\n",
       "                       location propertyType offerType  Bedrooms  Bathrooms  \\\n",
       "11737  Ilustre, President Roxas        house      rent        10          9   \n",
       "\n",
       "       Floor area (m)  Land Size (m)  ...  Smoke detector  \\\n",
       "11737     398855998.0    888088669.0  ...             0.0   \n",
       "\n",
       "       Split-system heating  Badminton court  Helipad  Sports facilities  \\\n",
       "11737                   0.0              0.0      0.0                0.0   \n",
       "\n",
       "       Tennis court Volleyball Court  Monthly Payment  Yearly Payment  \\\n",
       "11737           0.0              0.0            False           False   \n",
       "\n",
       "       Daily Payment  \n",
       "11737           True  \n",
       "\n",
       "[1 rows x 76 columns]"
      ]
     },
     "execution_count": 45,
     "metadata": {},
     "output_type": "execute_result"
    }
   ],
   "source": [
    "house_data.sort_values(by=['price'], ascending=False).head(1)"
   ]
  },
  {
   "cell_type": "markdown",
   "id": "009e1679",
   "metadata": {},
   "source": [
    "It appears that a spam listing has made it through the data cleaning process, this particular listing would be removed"
   ]
  },
  {
   "cell_type": "code",
   "execution_count": 46,
   "id": "6e673188",
   "metadata": {},
   "outputs": [],
   "source": [
    "house_data.drop(house_data.index[11737], inplace = True)"
   ]
  },
  {
   "cell_type": "code",
   "execution_count": 47,
   "id": "84b32ae7",
   "metadata": {},
   "outputs": [],
   "source": [
    "# Sort house_data by their price\n",
    "house_data.sort_values(by=['price'], ascending=False, inplace=True)"
   ]
  },
  {
   "cell_type": "code",
   "execution_count": 48,
   "id": "39ea7791",
   "metadata": {},
   "outputs": [],
   "source": [
    "# Get only prices of house_data that are buying\n",
    "housePrices = house_data.loc[house_data['offerType'] == 'buy']['price'].tolist()\n",
    "\n",
    "# Convert housePrices into millions of pesos\n",
    "housePrices = [i/1000000 for i in housePrices]"
   ]
  },
  {
   "cell_type": "code",
   "execution_count": 50,
   "id": "a22405a0",
   "metadata": {},
   "outputs": [
    {
     "data": {
      "image/png": "[encoded data removed]",
      "text/plain": [
       "<Figure size 640x480 with 1 Axes>"
      ]
     },
     "metadata": {},
     "output_type": "display_data"
    }
   ],
   "source": [
    "# Visualize without the top 5% (Outliers)\n",
    "plotDetails = {'xlabel': 'Million Pesos',\n",
    "              'ylabel': 'Number of listings', 'bins': 100,\n",
    "              'title': ''}\n",
    "\n",
    "createHistogram(housePrices[int(len(housePrices)*0.05):], plotDetails, 'house_buy_price')"
   ]
  },
  {
   "cell_type": "code",
   "execution_count": 51,
   "id": "dd570fef",
   "metadata": {
    "scrolled": false
   },
   "outputs": [
    {
     "data": {
      "image/png": "[encoded data removed]",
      "text/plain": [
       "<Figure size 640x480 with 1 Axes>"
      ]
     },
     "metadata": {},
     "output_type": "display_data"
    }
   ],
   "source": [
    "# Visualize just the top 5% (Outliers)\n",
    "plotDetails = {'xlabel': 'Million Pesos',\n",
    "              'ylabel': 'Number of listings', 'bins': 100,\n",
    "              'title': ''}\n",
    "createHistogram(housePrices[:int(len(housePrices)*0.05)], plotDetails, 'house_buy_price_outlier')"
   ]
  },
  {
   "cell_type": "markdown",
   "id": "1b805acd",
   "metadata": {
    "heading_collapsed": true
   },
   "source": [
    "## House Data - Rent"
   ]
  },
  {
   "cell_type": "code",
   "execution_count": 53,
   "id": "b32a150f",
   "metadata": {
    "hidden": true
   },
   "outputs": [],
   "source": [
    "# Get only prices of house_data that are buying\n",
    "housePrices = house_data.loc[house_data['offerType'] == 'rent']['price'].tolist()\n",
    "\n",
    "# Convert housePrices into thousand of pesos\n",
    "housePrices = [i/1000 for i in housePrices]"
   ]
  },
  {
   "cell_type": "code",
   "execution_count": 54,
   "id": "cee22bb2",
   "metadata": {
    "hidden": true
   },
   "outputs": [
    {
     "data": {
      "text/plain": [
       "5577"
      ]
     },
     "execution_count": 54,
     "metadata": {},
     "output_type": "execute_result"
    }
   ],
   "source": [
    "len(housePrices)"
   ]
  },
  {
   "cell_type": "code",
   "execution_count": 55,
   "id": "3db82f82",
   "metadata": {
    "hidden": true,
    "scrolled": false
   },
   "outputs": [
    {
     "data": {
      "image/png": "[encoded data removed]",
      "text/plain": [
       "<Figure size 640x480 with 1 Axes>"
      ]
     },
     "metadata": {},
     "output_type": "display_data"
    }
   ],
   "source": [
    "# Visualize without the top 5% (Outliers)\n",
    "plotDetails = {'xlabel': 'Thousand Pesos',\n",
    "              'ylabel': 'Number of listings', 'bins': 100,\n",
    "              'title': ''}\n",
    "createHistogram(housePrices[int(len(housePrices)*0.05):], plotDetails, 'house_rent_price')"
   ]
  },
  {
   "cell_type": "code",
   "execution_count": 56,
   "id": "8fe6e62c",
   "metadata": {
    "hidden": true,
    "scrolled": false
   },
   "outputs": [
    {
     "data": {
      "image/png": "[encoded data removed]",
      "text/plain": [
       "<Figure size 640x480 with 1 Axes>"
      ]
     },
     "metadata": {},
     "output_type": "display_data"
    }
   ],
   "source": [
    "# Visualize just the top 5% (Outliers)\n",
    "plotDetails = {'xlabel': 'Thousand Pesos',\n",
    "              'ylabel': 'Number of listings', 'bins': 100,\n",
    "              'title': ''}\n",
    "createHistogram(housePrices[:int(len(housePrices)*0.05)], plotDetails, 'house_rent_price_outlier')"
   ]
  },
  {
   "cell_type": "markdown",
   "id": "8f8a8e87",
   "metadata": {
    "heading_collapsed": true
   },
   "source": [
    "## Condominium Data - Buying"
   ]
  },
  {
   "cell_type": "code",
   "execution_count": 62,
   "id": "836f4bc8",
   "metadata": {
    "hidden": true
   },
   "outputs": [],
   "source": [
    "# Sort house_data by their price\n",
    "condo_data.sort_values(by=['price'], ascending=False, inplace=True)"
   ]
  },
  {
   "cell_type": "code",
   "execution_count": 63,
   "id": "b79f0949",
   "metadata": {
    "hidden": true
   },
   "outputs": [],
   "source": [
    "# Get only prices of house_data that are buying\n",
    "condoPrices = condo_data.loc[condo_data['offerType'] == 'buy']['price'].tolist()\n",
    "\n",
    "\n",
    "# Convert condoPrices into millions of pesos\n",
    "condoPrices = [i/1000000 for i in condoPrices]"
   ]
  },
  {
   "cell_type": "code",
   "execution_count": 79,
   "id": "764209bb",
   "metadata": {
    "hidden": true,
    "scrolled": true
   },
   "outputs": [
    {
     "data": {
      "image/png": "[encoded data removed]",
      "text/plain": [
       "<Figure size 640x480 with 1 Axes>"
      ]
     },
     "metadata": {},
     "output_type": "display_data"
    }
   ],
   "source": [
    "# Visualize without the top 10 (Outliers)\n",
    "plotDetails = {'xlabel': 'Million Pesos',\n",
    "              'ylabel': 'Number of listings', 'bins': 100,\n",
    "              'title': ''}\n",
    "createHistogram(condoPrices[10:], plotDetails, 'condo_buy_price')"
   ]
  },
  {
   "cell_type": "code",
   "execution_count": 80,
   "id": "ad76285f",
   "metadata": {
    "hidden": true
   },
   "outputs": [
    {
     "data": {
      "image/png": "[encoded data removed]",
      "text/plain": [
       "<Figure size 640x480 with 1 Axes>"
      ]
     },
     "metadata": {},
     "output_type": "display_data"
    }
   ],
   "source": [
    "# Visualize just the top 10 (Outliers)\n",
    "plotDetails = {'xlabel': 'Million Pesos',\n",
    "              'ylabel': 'Number of listings', 'bins': 100,\n",
    "              'title': ''}\n",
    "createHistogram(condoPrices[:10], plotDetails, 'condo_buy_price_outlier')"
   ]
  },
  {
   "cell_type": "markdown",
   "id": "d1a79e20",
   "metadata": {},
   "source": [
    "# Map Data\n",
    "\n",
    "The following geospatial data that would be used in the data visualization came from [godalida's github](https://github.com/godalida/geopandas-philippines). The geospatial data would be used to visualize different aspects of the real estate data which can include the different pricings per region/per city, number of listings per region/per city, and others"
   ]
  },
  {
   "cell_type": "code",
   "execution_count": null,
   "id": "8e1333ba",
   "metadata": {},
   "outputs": [],
   "source": [
    "province = geopandas.read_file('geopandas-philippines/CashaCart.shp')"
   ]
  },
  {
   "cell_type": "code",
   "execution_count": null,
   "id": "7e5def5e",
   "metadata": {},
   "outputs": [],
   "source": [
    "province.plot()"
   ]
  },
  {
   "cell_type": "markdown",
   "id": "bc35cddd",
   "metadata": {},
   "source": [
    "In total, there are 81 unique provinces in the dataset *province*, with this, we would be looking if the locations in house, condo, and apartment data coincides with the province dataset and see if there are any missing location"
   ]
  },
  {
   "cell_type": "code",
   "execution_count": null,
   "id": "bdc0c1bd",
   "metadata": {
    "scrolled": true
   },
   "outputs": [],
   "source": [
    "province_list = province['Province'].tolist()"
   ]
  },
  {
   "cell_type": "code",
   "execution_count": null,
   "id": "fdbf1eaa",
   "metadata": {},
   "outputs": [],
   "source": [
    "# Concatenate all locations into one list\n",
    "all_location = set().union(house_data['location'].unique().tolist(), condo_data['location'].unique().tolist(),\n",
    "                            apartment_data['location'].unique().tolist())"
   ]
  },
  {
   "cell_type": "code",
   "execution_count": null,
   "id": "5192b278",
   "metadata": {},
   "outputs": [],
   "source": [
    "# Get only the province or region of the location\n",
    "no_location = []\n",
    "for location in all_location:\n",
    "    currLoc = location.split(',')[-1].lstrip()\n",
    "    if currLoc not in province_list:\n",
    "        no_location.append(currLoc)\n",
    "len(no_location)"
   ]
  },
  {
   "cell_type": "markdown",
   "id": "2b0f31a7",
   "metadata": {},
   "source": [
    "It appears that many of the location either indicates only the city where the listing is. With this information, the file CityData.csv in the csv files would be used to correlate the city to the province.\n"
   ]
  },
  {
   "cell_type": "code",
   "execution_count": null,
   "id": "dc576b0d",
   "metadata": {},
   "outputs": [],
   "source": [
    "region_city_data = pd.read_csv('csv files/CityData.csv')"
   ]
  },
  {
   "cell_type": "code",
   "execution_count": null,
   "id": "9548403b",
   "metadata": {},
   "outputs": [],
   "source": [
    "no_location = []\n",
    "for location in all_location:\n",
    "    currLoc = location.split(',')[-1].lstrip()\n",
    "    # Check if currLoc is in region_city_data\n",
    "    region = region_city_data.loc[region_city_data['cityName'] == currLoc.lower()]['regionName']\n",
    "    # Convert Region into string\n",
    "    region = region.tolist()[0]\n",
    "    if region not in province_list:\n",
    "        no_location.append(currLoc)"
   ]
  },
  {
   "cell_type": "code",
   "execution_count": null,
   "id": "a5b1417f",
   "metadata": {},
   "outputs": [],
   "source": [
    "region = region_city_data.loc[region_city_data['cityName'] == 'davao']['regionName']"
   ]
  },
  {
   "cell_type": "code",
   "execution_count": null,
   "id": "3b7d4aa2",
   "metadata": {},
   "outputs": [],
   "source": [
    "region.tolist()[0]"
   ]
  }
 ],
 "metadata": {
  "kernelspec": {
   "display_name": "Python 3 (ipykernel)",
   "language": "python",
   "name": "python3"
  },
  "language_info": {
   "codemirror_mode": {
    "name": "ipython",
    "version": 3
   },
   "file_extension": ".py",
   "mimetype": "text/x-python",
   "name": "python",
   "nbconvert_exporter": "python",
   "pygments_lexer": "ipython3",
   "version": "3.9.15"
  },
  "toc": {
   "base_numbering": 1,
   "nav_menu": {
    "height": "136px",
    "width": "216px"
   },
   "number_sections": true,
   "sideBar": true,
   "skip_h1_title": false,
   "title_cell": "Table of Contents",
   "title_sidebar": "Contents",
   "toc_cell": false,
   "toc_position": {},
   "toc_section_display": true,
   "toc_window_display": false
  }
 },
 "nbformat": 4,
 "nbformat_minor": 5
}
